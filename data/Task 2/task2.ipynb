{
 "cells": [
  {
   "cell_type": "markdown",
   "metadata": {},
   "source": [
    "LOAD DATA "
   ]
  },
  {
   "cell_type": "code",
   "execution_count": 52,
   "metadata": {},
   "outputs": [],
   "source": [
    "import numpy as np\n",
    "import matplotlib.pyplot as plt\n",
    "data_path ='data\\Task 2\\sample_1a2bc3012c9defca.npz'\n"
   ]
  },
  {
   "cell_type": "code",
   "execution_count": 53,
   "metadata": {},
   "outputs": [],
   "source": [
    "info = np.load(data_path,allow_pickle=True)\n",
    "all_agent_trajs        = info['all_agent']    \n",
    "all_agent_trajs.shape  #[24 agents, 91 timesteps the interval between each timestep is 0.1 second,\\\n",
    "    #10 denotes [center_x, center_y, center_z, boundingbox_x, boundingbox_y, boundingbox_z, heading, vel_x, vel_y, valid] ]\n",
    "#the valid flag is either 0 or 1. 1 means the valid, 0 means invalid\n",
    "obj_types              = info['object_type']\n",
    "lane_polylines         = info['lane']           #  list of [n,7] array [x,y,z,ori_x,ori_y,ori_z,type]\n",
    "road_polylines         = info['road_polylines'] #  list of [n,7] array [x,y,z,ori_x,ori_y,ori_z,type]\n",
    "crosswalk_polylines    = info['crosswalk']      #  list of [n,7] array [x,y,z,ori_x,ori_y,ori_z,type]\n",
    "speed_bump_polylines   = info['speed_bump']     #  list of [n,7] array [x,y,z,ori_x,ori_y,ori_z,type]\n",
    "stop_signs_polylines   = info['stop_sign']      #  list of [n,7] array [x,y,z,ori_x,ori_y,ori_z,type]\n",
    "drive_way_polylines    = info['drive_way']      #  list of [n,7] array [x,y,z,ori_x,ori_y,ori_z,type]\n"
   ]
  },
  {
   "cell_type": "markdown",
   "metadata": {},
   "source": [
    "We select the 11th timestep as the current timestep "
   ]
  },
  {
   "cell_type": "code",
   "execution_count": 54,
   "metadata": {},
   "outputs": [
    {
     "data": {
      "text/plain": [
       "(24, 10)"
      ]
     },
     "execution_count": 54,
     "metadata": {},
     "output_type": "execute_result"
    }
   ],
   "source": [
    "all_agent_current = all_agent_trajs[:,10]\n",
    "all_agent_current.shape"
   ]
  },
  {
   "cell_type": "code",
   "execution_count": 55,
   "metadata": {},
   "outputs": [
    {
     "data": {
      "text/plain": [
       "(24, 10, 10)"
      ]
     },
     "execution_count": 55,
     "metadata": {},
     "output_type": "execute_result"
    }
   ],
   "source": [
    "#ground truth for the future 1s,2s,3s can be easily derived by :\n",
    "predict_horizon = 10 #20,30\n",
    "all_gt_future=all_agent_trajs[:,11:11+predict_horizon]\n",
    "all_gt_future.shape"
   ]
  },
  {
   "cell_type": "markdown",
   "metadata": {},
   "source": [
    "Index of target agent to predict"
   ]
  },
  {
   "cell_type": "code",
   "execution_count": 56,
   "metadata": {},
   "outputs": [
    {
     "data": {
      "text/plain": [
       "(8, 91, 10)"
      ]
     },
     "execution_count": 56,
     "metadata": {},
     "output_type": "execute_result"
    }
   ],
   "source": [
    "tracks        = info['predict_list']  \n",
    "tracks\n",
    "agents_to_predict = all_agent_trajs[tracks]\n",
    "agents_to_predict.shape"
   ]
  },
  {
   "cell_type": "markdown",
   "metadata": {},
   "source": [
    "The homework should be done on these 8 agents."
   ]
  },
  {
   "cell_type": "markdown",
   "metadata": {},
   "source": [
    "# Q1.Using constant velocity model to predict the future (1s,2s,3s) trajectories of the target agent and calculate the ADE and FDE.  "
   ]
  },
  {
   "cell_type": "markdown",
   "metadata": {},
   "source": [
    "This code is designed for trajectory prediction and evaluation within a multi-object tracking scenario. It specifically aims to predict the future positions of selected agents using a constant velocity model and then evaluates the accuracy of these predictions against ground truth data. The evaluation metrics used are the Average Displacement Error (ADE) and the Final Displacement Error (FDE). Here's a brief overview of its components:\n",
    "\n",
    "### Data Loading and Preprocessing\n",
    "- The code starts by loading a dataset from a NumPy compressed file (`.npz`), which includes data for various agents and environmental features.\n",
    "- It extracts the indices of specific agents to be predicted (`tracks`) and their corresponding trajectory data (`agents_to_predict`).\n",
    "- It defines prediction horizons (in seconds) and translates them into timesteps, considering a timestep interval of 0.1 seconds.\n",
    "- Ground truth data for the future positions of these agents are extracted for each defined prediction horizon to later compare with the predicted positions.\n",
    "\n",
    "### Constant Velocity Model Prediction\n",
    "- A function `predict_trajectory_constant_velocity` is defined to predict the future positions of the agents based on the assumption of constant velocity. For each agent and each prediction horizon, it calculates future positions and stores them in an array.\n",
    "- The prediction considers the agent's last known position and velocity and extrapolates future positions linearly.\n",
    "\n",
    "### Calculation of ADE and FDE\n",
    "- The Average Displacement Error (ADE) is calculated as the mean Euclidean distance between the predicted and actual positions across all predicted timesteps for each agent, averaged over all agents.\n",
    "- The Final Displacement Error (FDE) is calculated as the Euclidean distance between the predicted and actual positions at the final predicted timestep, again averaged over all agents.\n",
    "- Two functions, `calculate_ade` and `calculate_fde`, implement these calculations by comparing the predicted trajectories against the ground truth for each prediction horizon.\n",
    "\n",
    "### Output\n",
    "- Finally, the script prints out the calculated ADE and FDE values for each prediction horizon, providing a quantitative assessment of the prediction accuracy.\n",
    "\n"
   ]
  },
  {
   "cell_type": "code",
   "execution_count": 64,
   "metadata": {},
   "outputs": [
    {
     "name": "stdout",
     "output_type": "stream",
     "text": [
      "ADE values: {10: 0.2508319052301113, 20: 0.6408690170888223, 30: 1.287818545500022}\n",
      "FDE values: {10: 0.5150812726918637, 20: 1.5804000554098399, 30: 3.540838200019236}\n"
     ]
    }
   ],
   "source": [
    "# Data Loading and Preprocessing\n",
    "# Load the dataset from a NumPy compressed file (.npz), which contains multiple arrays with data for agents, object types, and environmental features.\n",
    "data_path = 'data/Task 2/sample_1a2bc3012c9defca.npz'  \n",
    "info = np.load(data_path, allow_pickle=True)\n",
    "\n",
    "# Extract agents that are specified for prediction based on an index list provided within the dataset.\n",
    "tracks = info['predict_list']\n",
    "agents_to_predict = info['all_agent'][tracks]\n",
    "\n",
    "# Prediction horizons are defined here, indicating how far into the future we want to predict (in seconds), converted into timesteps by multiplying with 10 (assuming a 0.1-second interval per step).\n",
    "predict_horizons = [10, 20, 30]\n",
    "\n",
    "# Extract the ground truth data for future positions of agents for comparison with the predicted trajectories.\n",
    "all_gt_futures = {horizon: info['all_agent'][tracks, 11:11+horizon] for horizon in predict_horizons}\n",
    "\n",
    "# Constant Velocity Model Prediction\n",
    "# This function predicts the future trajectory of each agent based on constant velocity assumption for specified horizons.\n",
    "def predict_trajectory_constant_velocity(agent_positions, predict_horizons):\n",
    "    predicted_trajectories = {}\n",
    "    for horizon in predict_horizons:\n",
    "        predictions = np.zeros((agent_positions.shape[0], horizon, 2))  # Prepare a zero-filled array for storing predictions.\n",
    "        for i, agent in enumerate(agent_positions):\n",
    "            velocity_x = agent[10, 7]  # Extract the x-component of velocity.\n",
    "            velocity_y = agent[10, 8]  # Extract the y-component of velocity.\n",
    "            for t in range(horizon):\n",
    "                # Calculate future position based on constant velocity.\n",
    "                future_x = agent[10, 0] + velocity_x * (t + 1) * 0.1\n",
    "                future_y = agent[10, 1] + velocity_y * (t + 1) * 0.1\n",
    "                predictions[i, t] = [future_x, future_y]\n",
    "        predicted_trajectories[horizon] = predictions\n",
    "    return predicted_trajectories\n",
    "\n",
    "predicted_trajectories = predict_trajectory_constant_velocity(agents_to_predict, predict_horizons)\n",
    "\n",
    "# Calculate ADE and FDE\n",
    "# ADE is the average Euclidean distance between predicted positions and ground truth positions across all timesteps and agents.\n",
    "# FDE is the Euclidean distance between the predicted and actual positions at the final timestep.\n",
    "def calculate_ade(predicted_trajectories, ground_truth):\n",
    "    ade_values = {}\n",
    "    for horizon, predictions in predicted_trajectories.items():\n",
    "        total_error = 0\n",
    "        for i in range(predictions.shape[0]):\n",
    "            for t in range(horizon):\n",
    "                pred_pos = predictions[i, t]\n",
    "                true_pos = ground_truth[horizon][i, t, :2]\n",
    "                total_error += np.linalg.norm(pred_pos - true_pos)\n",
    "        ade_values[horizon] = total_error / (predictions.shape[0] * horizon)\n",
    "    return ade_values\n",
    "\n",
    "def calculate_fde(predicted_trajectories, ground_truth):\n",
    "    fde_values = {}\n",
    "    for horizon, predictions in predicted_trajectories.items():\n",
    "        total_error = 0\n",
    "        for i in range(predictions.shape[0]):\n",
    "            pred_pos = predictions[i, -1]\n",
    "            true_pos = ground_truth[horizon][i, -1, :2]\n",
    "            total_error += np.linalg.norm(pred_pos - true_pos)\n",
    "        fde_values[horizon] = total_error / predictions.shape[0]\n",
    "    return fde_values\n",
    "\n",
    "ade_values = calculate_ade(predicted_trajectories, all_gt_futures)\n",
    "fde_values = calculate_fde(predicted_trajectories, all_gt_futures)\n",
    "\n",
    "# Print the calculated ADE and FDE values for each prediction horizon.\n",
    "print(\"ADE values:\", ade_values)\n",
    "print(\"FDE values:\", fde_values)\n"
   ]
  },
  {
   "cell_type": "markdown",
   "metadata": {},
   "source": [
    "# Q2.Using constant acceleration model to predict the future (1s,2s,3s) trajectories of the target agent and calculate the ADE and FDE. "
   ]
  },
  {
   "cell_type": "markdown",
   "metadata": {},
   "source": [
    "This code snippet is designed to predict the future positions of multiple agents using a Constant Acceleration Model (CAM) and then evaluate the accuracy of these predictions by calculating the Average Displacement Error (ADE) and Final Displacement Error (FDE). Here's a step-by-step explanation:\n",
    "\n",
    "### Estimating Acceleration (`estimate_acceleration`)\n",
    "- **Purpose**: Calculates the acceleration of an agent based on the change in its velocity between the last two timesteps.\n",
    "- **Input**: Trajectory data of an agent, where each row corresponds to a timestep and includes various data such as position and velocity.\n",
    "- **Process**: The function retrieves the agent's velocities at the last and second-to-last timesteps, calculates the change in velocity (delta velocity), and divides it by the time interval (0.1 seconds) to estimate the acceleration in both the x and y directions.\n",
    "- **Output**: A 2-element numpy array representing the estimated acceleration (`accel_x`, `accel_y`).\n",
    "\n",
    "### Predicting Trajectories (`predict_trajectory_constant_acceleration`)\n",
    "- **Purpose**: Predicts future positions for each agent over specified prediction horizons using a constant acceleration model.\n",
    "- **Input**: \n",
    "  - `agents`: A numpy array containing the trajectory data for multiple agents.\n",
    "  - `predict_horizons`: A list of integers representing the prediction horizons in timesteps.\n",
    "- **Process**: \n",
    "  - For each prediction horizon, the function initializes an array to store predicted positions for all agents.\n",
    "  - It iterates over each agent, using their current position and velocity along with the estimated acceleration to predict future positions at each timestep within the prediction horizon.\n",
    "  - The future positions are calculated using the constant acceleration equation, taking into account the acceleration in both x and y directions.\n",
    "- **Output**: A dictionary where keys are prediction horizons and values are numpy arrays containing the predicted positions for all agents.\n",
    "\n",
    "### Evaluating Predictions (ADE and FDE Calculations)\n",
    "- After predicting the trajectories, the code calculates two metrics to evaluate the accuracy of these predictions against the ground truth data:\n",
    "  - **Average Displacement Error (ADE)**: The average Euclidean distance between the predicted and actual positions across all timesteps and agents.\n",
    "  - **Final Displacement Error (FDE)**: The Euclidean distance between the predicted and actual positions at the final timestep.\n",
    "- The ADE and FDE values are calculated for each prediction horizon and printed out to provide insights into the model's performance.\n"
   ]
  },
  {
   "cell_type": "code",
   "execution_count": 65,
   "metadata": {},
   "outputs": [
    {
     "name": "stdout",
     "output_type": "stream",
     "text": [
      "ADE values for Constant Acceleration Model: {10: 0.233451117162717, 20: 0.5806123339154756, 30: 1.1694128572687688}\n",
      "FDE values for Constant Acceleration Model: {10: 0.4739612837201345, 20: 1.4155385495650414, 30: 3.2543015922438867}\n"
     ]
    }
   ],
   "source": [
    "# Function to estimate the acceleration of an agent based on the change in its velocity.\n",
    "def estimate_acceleration(agent):\n",
    "    \"\"\"\n",
    "    Estimates the acceleration of an agent.\n",
    "\n",
    "    Parameters:\n",
    "    - agent: A numpy array representing the agent's trajectory data, where each row is a timestep,\n",
    "      and columns include positions, velocities, etc.\n",
    "\n",
    "    Returns:\n",
    "    - A numpy array representing the acceleration (accel_x, accel_y).\n",
    "    \"\"\"\n",
    "    # Retrieve the agent's velocities at the last and second to last timesteps.\n",
    "    velocity_last = agent[-1, 7:9]  # Last known velocity components (vel_x, vel_y).\n",
    "    velocity_second_last = agent[-2, 7:9]  # Second to last known velocity components (vel_x, vel_y).\n",
    "    \n",
    "    # Calculate the acceleration as the change in velocity divided by the time interval (0.1 seconds here).\n",
    "    acceleration = (velocity_last - velocity_second_last) / 0.1\n",
    "    return acceleration\n",
    "\n",
    "# Function to predict future positions using the Constant Acceleration Model.\n",
    "def predict_trajectory_constant_acceleration(agents, predict_horizons):\n",
    "    \"\"\"\n",
    "    Predicts future trajectories for multiple agents using a constant acceleration model.\n",
    "\n",
    "    Parameters:\n",
    "    - agents: A numpy array of agents, where each agent's trajectory data is included.\n",
    "    - predict_horizons: A list of integers representing prediction horizons in timesteps.\n",
    "\n",
    "    Returns:\n",
    "    - A dictionary where keys are prediction horizons and values are numpy arrays of predicted positions.\n",
    "    \"\"\"\n",
    "    predicted_trajectories = {}\n",
    "    for horizon in predict_horizons:\n",
    "        # Initialize an array to hold predicted positions for all agents at this horizon.\n",
    "        predictions = np.zeros((agents.shape[0], horizon, 2))  # x, y positions\n",
    "        \n",
    "        for num_agent, agent in enumerate(agents):\n",
    "            # Use the agent's current position as the starting point for predictions.\n",
    "            last_pos_x, last_pos_y = agent[10, 0], agent[10, 1]\n",
    "            # Retrieve the current velocity components.\n",
    "            vel_x, vel_y = agent[10, 7], agent[10, 8]\n",
    "            # Estimate the agent's acceleration.\n",
    "            acceleration = estimate_acceleration(agent)\n",
    "            accel_x, accel_y = acceleration\n",
    "\n",
    "            # Predict future positions at each timestep within the horizon.\n",
    "            for timestep_idx in range(horizon):\n",
    "                # Calculate future position using the constant acceleration equation.\n",
    "                curr_pos_x = 0.5 * accel_x * (0.1 ** 2) + vel_x * 0.1 + last_pos_x\n",
    "                curr_pos_y = 0.5 * accel_y * (0.1 ** 2) + vel_y * 0.1 + last_pos_y\n",
    "                \n",
    "                # Update the positions for the next iteration.\n",
    "                last_pos_x, last_pos_y = curr_pos_x, curr_pos_y\n",
    "                \n",
    "                # Store the predicted position.\n",
    "                predictions[num_agent, timestep_idx, :] = [curr_pos_x, curr_pos_y]\n",
    "\n",
    "        predicted_trajectories[horizon] = predictions\n",
    "    return predicted_trajectories\n",
    "\n",
    "# Predict trajectories for all agents at specified horizons.\n",
    "predicted_trajectories = predict_trajectory_constant_acceleration(agents_to_predict, predict_horizons)\n",
    "\n",
    "# Calculate and print ADE and FDE for the predictions compared to ground truth.\n",
    "ade_values = calculate_ade(predicted_trajectories, all_gt_futures)\n",
    "fde_values = calculate_fde(predicted_trajectories, all_gt_futures)\n",
    "\n",
    "print(\"ADE values for Constant Acceleration Model:\", ade_values)\n",
    "print(\"FDE values for Constant Acceleration Model:\", fde_values)\n"
   ]
  },
  {
   "cell_type": "markdown",
   "metadata": {},
   "source": [
    "# Using Constant Turn Rate and Velocity(CTRV) model to predict the future (1s,2s,3s) trajectories of the target agent and calculate the ADE and FDE. "
   ]
  },
  {
   "cell_type": "markdown",
   "metadata": {},
   "source": [
    "This code implements a trajectory prediction and evaluation framework using the Constant Turn Rate and Velocity (CTRV) model, aimed at predicting the future positions of moving agents (e.g., vehicles) over specified prediction horizons. It then assesses the accuracy of these predictions using Average Displacement Error (ADE) and Final Displacement Error (FDE) metrics. Here's a detailed breakdown:\n",
    "\n",
    "### Estimating Turn Rate (`estimate_turn_rate`)\n",
    "- **Purpose**: Computes the rate of change in the heading angle (turn rate, $\\omega$) for an agent between the last two time steps, assuming uniform time intervals.\n",
    "- **Process**: The function calculates the difference in heading angles between two consecutive time steps and divides it by the time interval (0.1 seconds) to obtain the turn rate.\n",
    "- **Output**: The estimated turn rate ($\\omega$) in radians per second.\n",
    "\n",
    "### Calculating ADE and FDE (`calculate_ade_fde_per_agent`)\n",
    "- **ADE Calculation**: Measures the average Euclidean distance between the predicted positions and the actual positions (ground truth) across all prediction time steps for each agent.\n",
    "- **FDE Calculation**: Measures the Euclidean distance between the predicted and actual positions at the final prediction time step for each agent.\n",
    "- **Purpose**: These metrics evaluate the accuracy of the trajectory predictions, with lower values indicating higher prediction accuracy.\n",
    "\n",
    "### Predicting Trajectories (`predict_trajectory_ctrv`)\n",
    "- **Purpose**: Predicts future trajectories for agents using the CTRV model, which accounts for both linear velocity and turn rate, making it suitable for scenarios involving curved paths.\n",
    "- **Process**:\n",
    "  - For each agent identified by indices in `tracks`, the function calculates predicted positions at each time step within the specified prediction horizons (e.g., 1s, 2s, 3s) based on their current state (position, velocity, heading) and estimated turn rate.\n",
    "  - If the turn rate ($\\omega$) is non-zero, it predicts the positions using CTRV equations that incorporate both linear motion and rotation. For a zero turn rate, it simplifies to linear motion prediction.\n",
    "- **Output**: A dictionary mapping each prediction horizon to another dictionary containing ADE and FDE metrics for each agent, indicating the prediction accuracy at that horizon.\n",
    "\n",
    "### Evaluation and Display\n",
    "- After predicting trajectories and calculating ADE and FDE, the script iterates through the results to display these metrics for each agent at each prediction horizon. This output helps understand the model's performance and its potential applicability to real-world scenarios involving moving agents.\n"
   ]
  },
  {
   "cell_type": "code",
   "execution_count": 59,
   "metadata": {},
   "outputs": [
    {
     "name": "stdout",
     "output_type": "stream",
     "text": [
      "Horizon 1.0s:\n",
      "Agent 22: ADE = 1.8780475830425658, FDE = 4.924128541702375\n",
      "Agent 15: ADE = 15.743120299389238, FDE = 36.97064485885443\n",
      "Agent 4: ADE = 9.490049969407375, FDE = 22.414874090342\n",
      "Agent 5: ADE = 18.873035745388567, FDE = 45.635511228213\n",
      "Agent 9: ADE = 26.05552960224906, FDE = 61.77005825046284\n",
      "Agent 14: ADE = 11.746672276672097, FDE = 27.741904348411772\n",
      "Agent 6: ADE = 7.656089478338845, FDE = 18.236311868305016\n",
      "Agent 7: ADE = 6.155643836927794, FDE = 14.5244352504396\n",
      "Horizon 2.0s:\n",
      "Agent 22: ADE = 7.164391495628128, FDE = 20.1760633427626\n",
      "Agent 15: ADE = 49.50594041760547, FDE = 129.37575137982435\n",
      "Agent 4: ADE = 30.104587805681724, FDE = 79.0159742591865\n",
      "Agent 5: ADE = 62.73259368968233, FDE = 168.05899139695364\n",
      "Agent 9: ADE = 83.37181996196507, FDE = 219.66051754085348\n",
      "Agent 14: ADE = 37.226177778345644, FDE = 97.60067998111265\n",
      "Agent 6: ADE = 24.68070602119446, FDE = 65.18260702719998\n",
      "Agent 7: ADE = 19.48549480994416, FDE = 51.06096126894323\n",
      "Horizon 3.0s:\n",
      "Agent 22: ADE = 15.912013079357685, FDE = 45.81854675637375\n",
      "Agent 15: ADE = 101.42674001381651, FDE = 275.10392041604985\n",
      "Agent 4: ADE = 62.08283925831473, FDE = 169.55063900363157\n",
      "Agent 5: ADE = 132.3307059192497, FDE = 367.78829218396436\n",
      "Agent 9: ADE = 172.7141446322385, FDE = 473.58958273669646\n",
      "Agent 14: ADE = 76.54186391044533, FDE = 208.239973699624\n",
      "Agent 6: ADE = 51.28644614043575, FDE = 141.00973988837126\n",
      "Agent 7: ADE = 40.128953947891134, FDE = 109.52862992863973\n"
     ]
    }
   ],
   "source": [
    "def estimate_turn_rate(agent):\n",
    "    # Estimate the turn rate (omega) based on the change in heading angle between two time steps\n",
    "    heading_initial = agent[-3, 6]  # Heading angle at the second to last time step\n",
    "    heading_final = agent[-2, 6]  # Heading angle at the last time step\n",
    "    delta_heading = heading_final - heading_initial\n",
    "    delta_time = 0.1  # Time interval between the steps, assuming 0.1 seconds\n",
    "    omega = delta_heading / delta_time\n",
    "    return omega\n",
    "\n",
    "def calculate_ade_fde_per_agent(predicted, ground_truth):\n",
    "    # Calculate ADE (Average Displacement Error) for each agent\n",
    "    ade = np.mean(np.sqrt(np.sum((predicted - ground_truth) ** 2, axis=2)), axis=1)\n",
    "    # Calculate FDE (Final Displacement Error) for each agent\n",
    "    fde = np.sqrt(np.sum((predicted[:, -1, :] - ground_truth[:, -1, :]) ** 2, axis=1))\n",
    "    return ade, fde\n",
    "\n",
    "def predict_trajectory_ctrv(agents, predict_horizons, all_gt_futures, tracks):\n",
    "    results = {}\n",
    "\n",
    "    for horizon in predict_horizons:\n",
    "        predictions = np.zeros((agents.shape[0], horizon, 2))  # Initialize predictions\n",
    "        ground_truth = all_gt_futures[:, 11:11+horizon, :2]  # Extract ground truth for the horizon\n",
    "\n",
    "        agent_results = {}\n",
    "        for idx, agent_idx in enumerate(tracks):  # Use enumerate to get both index and agent ID\n",
    "            agent = agents[idx]\n",
    "            x, y, theta = agent[10, :3]  # Initial position and heading\n",
    "            velocity = np.sqrt(agent[10, 7]**2 + agent[10, 8]**2)  # Velocity magnitude\n",
    "            omega = estimate_turn_rate(agent)  # Turn rate\n",
    "\n",
    "            for t in range(1, horizon + 1):\n",
    "                delta_t = t * 0.1  # Time step\n",
    "                if omega != 0:  # Turning motion\n",
    "                    x += velocity / omega * (np.sin(theta + omega * delta_t) - np.sin(theta))\n",
    "                    y += velocity / omega * (np.cos(theta) - np.cos(theta + omega * delta_t))\n",
    "                else:  # Straight line motion\n",
    "                    x += velocity * delta_t * np.cos(theta)\n",
    "                    y += velocity * delta_t * np.sin(theta)\n",
    "                predictions[idx, t-1, :] = [x, y]\n",
    "\n",
    "            ade, fde = calculate_ade_fde_per_agent(predictions[idx:idx+1], ground_truth[agent_idx:agent_idx+1, :horizon, :2])\n",
    "            agent_results[agent_idx] = {'ADE': ade[0], 'FDE': fde[0]}\n",
    "\n",
    "        results[horizon] = agent_results\n",
    "\n",
    "    return results\n",
    "\n",
    "# Assuming the rest of your setup is correct\n",
    "results = predict_trajectory_ctrv(agents_to_predict, predict_horizons, all_agent_trajs, tracks)\n",
    "\n",
    "# Display the results\n",
    "for horizon, agents_data in results.items():\n",
    "    print(f\"Horizon {horizon/10}s:\")\n",
    "    for agent_idx, metrics in agents_data.items():\n",
    "        print(f\"Agent {agent_idx}: ADE = {metrics['ADE']}, FDE = {metrics['FDE']}\")\n"
   ]
  },
  {
   "cell_type": "markdown",
   "metadata": {},
   "source": [
    "# Comparison of results constant velocity and constant acceleration "
   ]
  },
  {
   "cell_type": "markdown",
   "metadata": {},
   "source": [
    "The outputs provided give insight into the performance of two trajectory prediction models - the Constant Velocity Model (Q1) and the Constant Acceleration Model (Q2) - based on Average Displacement Error (ADE) and Final Displacement Error (FDE) metrics across three prediction horizons (1s, 2s, 3s). Here's a comparison and discussion of the observations:\n",
    "\n",
    "### Average Displacement Error (ADE)\n",
    "\n",
    "- **Constant Velocity Model** shows increasing ADE values with longer prediction horizons: 0.2508 (1s), 0.6409 (2s), 1.2878 (3s). This trend indicates that prediction accuracy decreases as the prediction horizon extends, which is expected due to accumulating uncertainties in motion over time.\n",
    "- **Constant Acceleration Model** also exhibits a similar trend with ADE values: 0.2335 (1s), 0.5806 (2s), 1.1694 (3s). The ADE values are consistently lower across all horizons compared to the Constant Velocity Model, suggesting improved prediction accuracy when accounting for acceleration.\n",
    "\n",
    "### Final Displacement Error (FDE)\n",
    "\n",
    "- **Constant Velocity Model** shows FDE values increasing with the prediction horizon: 0.5151 (1s), 1.5804 (2s), 3.5408 (3s). This aligns with the expectation that errors in position prediction accumulate over time.\n",
    "- **Constant Acceleration Model** reports slightly lower FDE values than the Constant Velocity Model at all horizons: 0.4740 (1s), 1.4155 (2s), 3.2543 (3s). This suggests that incorporating acceleration into the prediction model offers a more accurate estimation of the agent's final position, especially for longer prediction horizons.\n",
    "\n",
    "### Observations\n",
    "\n",
    "- **Improved Accuracy with Acceleration**: The Constant Acceleration Model generally provides more accurate predictions (lower ADE and FDE) compared to the Constant Velocity Model. This improvement underscores the importance of accounting for changes in velocity when predicting future positions, particularly in scenarios where agents frequently adjust their speed.\n",
    "- **Increasing Errors Over Time**: Both models exhibit increasing errors with longer prediction horizons, which is expected in trajectory prediction tasks. The accumulation of errors over time highlights the challenge of predicting movements accurately in dynamic environments.\n",
    "- **Model Selection Based on Scenario**: While the Constant Acceleration Model shows better overall performance, the choice between these models should consider the specific requirements and constraints of the application scenario. For example, the Constant Velocity Model may suffice in scenarios with mostly uniform motion, offering simpler computations."
   ]
  },
  {
   "cell_type": "code",
   "execution_count": 60,
   "metadata": {},
   "outputs": [],
   "source": [
    "sdc_current_state = all_agent_trajs[tracks[0]][11]\n",
    "ax = plt.gca()\n",
    "fig = plt.gcf()\n",
    "fig.set_facecolor('xkcd:grey') \n",
    "ax.set_facecolor('xkcd:grey')\n",
    "for polyline in road_polylines:\n",
    "    map_type = polyline[0,6]\n",
    "    if map_type == 6:\n",
    "        plt.plot(polyline[:, 0], polyline[:, 1], 'w', linestyle='dashed', linewidth=1)\n",
    "    elif map_type == 7:\n",
    "        plt.plot(polyline[:, 0], polyline[:, 1], 'w', linestyle='solid', linewidth=1)\n",
    "    elif map_type == 8:\n",
    "        plt.plot(polyline[:, 0], polyline[:, 1], 'w', linestyle='solid', linewidth=1)\n",
    "    elif map_type == 9:\n",
    "        plt.plot(polyline[:, 0], polyline[:, 1], 'xkcd:yellow', linestyle='dashed', linewidth=1)\n",
    "    elif map_type == 10:\n",
    "        plt.plot(polyline[:, 0], polyline[:, 1], 'xkcd:yellow', linestyle='dashed', linewidth=1)\n",
    "    elif map_type == 11:\n",
    "        plt.plot(polyline[:, 0], polyline[:, 1], 'xkcd:yellow', linestyle='solid', linewidth=1)\n",
    "    elif map_type == 12:\n",
    "        plt.plot(polyline[:, 0], polyline[:, 1], 'xkcd:yellow', linestyle='solid', linewidth=1)\n",
    "    elif map_type == 13:\n",
    "        plt.plot(polyline[:, 0], polyline[:, 1], 'xkcd:yellow', linestyle='dotted', linewidth=1)\n",
    "    elif map_type == 15:\n",
    "        plt.plot(polyline[:, 0], polyline[:, 1], 'k', linewidth=1)\n",
    "    elif map_type == 16:\n",
    "        plt.plot(polyline[:, 0], polyline[:, 1], 'k', linewidth=1)\n",
    "ax.axis([-70+ sdc_current_state[0], 70+ sdc_current_state[0], -70+ sdc_current_state[1], 70 + sdc_current_state[1]])\n",
    "\n",
    "filename = './viz.png' \n",
    "plt.savefig(filename)       \n",
    "plt.close()"
   ]
  }
 ],
 "metadata": {
  "kernelspec": {
   "display_name": "DgxEnv",
   "language": "python",
   "name": "python3"
  },
  "language_info": {
   "codemirror_mode": {
    "name": "ipython",
    "version": 3
   },
   "file_extension": ".py",
   "mimetype": "text/x-python",
   "name": "python",
   "nbconvert_exporter": "python",
   "pygments_lexer": "ipython3",
   "version": "3.8.18"
  }
 },
 "nbformat": 4,
 "nbformat_minor": 2
}
