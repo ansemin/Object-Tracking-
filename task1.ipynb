{
 "cells": [
  {
   "cell_type": "markdown",
   "metadata": {},
   "source": [
    "## ME5413: Autonomous Mobile Robot  \n",
    "\n",
    "### Homework 1: Perception  \n",
    "Due date: 22 February 2024 (Thurs) - 2359 \n"
   ]
  },
  {
   "cell_type": "markdown",
   "metadata": {},
   "source": [
    "### Task 1.1 Single-Object Tracking \n"
   ]
  },
  {
   "cell_type": "code",
   "execution_count": 1,
   "metadata": {},
   "outputs": [
    {
     "name": "stdout",
     "output_type": "stream",
     "text": [
      "hello\n"
     ]
    }
   ],
   "source": [
    "## put your code here\n",
    "\n",
    "print('hello')\n",
    "\n"
   ]
  },
  {
   "cell_type": "markdown",
   "metadata": {},
   "source": [
    "Using Template Matching\n"
   ]
  },
  {
   "cell_type": "code",
   "execution_count": 2,
   "metadata": {},
   "outputs": [],
   "source": [
    "import cv2\n",
    "import numpy as np\n",
    "import os\n",
    "\n",
    "# Function to read the first track coordinates\n",
    "def read_first_track(first_track_path):\n",
    "    with open(first_track_path, 'r') as file:\n",
    "        line = file.readline().strip()\n",
    "        x, y, w, h = map(int, line.split(','))\n",
    "        return (x, y, w, h)\n",
    "\n",
    "# Function to perform template matching\n",
    "def template_match(sequence_path, first_track_path):\n",
    "    # Get the coordinates for the template\n",
    "    x, y, w, h = read_first_track(first_track_path)\n",
    "    \n",
    "    # Read the first image and extract the template\n",
    "    first_image_path = os.path.join(sequence_path, \"001.jpg\")\n",
    "    first_image = cv2.imread(first_image_path, 0)\n",
    "    template = first_image[y:y+h, x:x+w]\n",
    "\n",
    "    # Loop over each image in the sequence\n",
    "    for i in range(1, 101):\n",
    "        image_path = os.path.join(sequence_path, f\"{str(i).zfill(3)}.jpg\")\n",
    "        img = cv2.imread(image_path, 0)\n",
    "\n",
    "        # Perform template matching\n",
    "        res = cv2.matchTemplate(img, template, cv2.TM_CCOEFF_NORMED)\n",
    "        \n",
    "        # Threshold and location\n",
    "        threshold = 0.8\n",
    "        loc = np.where(res >= threshold)\n",
    "        \n",
    "        # Draw a rectangle around the matches\n",
    "        for pt in zip(*loc[::-1]):\n",
    "            cv2.rectangle(img, pt, (pt[0] + w, pt[1] + h), (0,255,255), 2)\n",
    "\n",
    "        # Save or display the result\n",
    "        cv2.imwrite(os.path.join(sequence_path, f'matched_{str(i).zfill(3)}.jpg'), img)\n",
    "\n",
    "# Path to the sequence directory and the first track file\n",
    "sequence_dir_base = 'data/Task 1' # replace with your base directory\n",
    "first_track_file = 'firsttrack.txt' # this file should be in each sequence directory\n",
    "\n",
    "# Perform template matching for each sequence\n",
    "for seq_num in range(1, 6):\n",
    "    sequence_path = os.path.join(sequence_dir_base, f'seq_{seq_num}', 'img')\n",
    "    first_track_path = os.path.join(sequence_dir_base, f'seq_{seq_num}', first_track_file)\n",
    "    template_match(sequence_path, first_track_path)\n"
   ]
  },
  {
   "cell_type": "markdown",
   "metadata": {},
   "source": [
    "Using Kalman Filter\n"
   ]
  },
  {
   "cell_type": "code",
   "execution_count": null,
   "metadata": {},
   "outputs": [],
   "source": [
    "## put your code here"
   ]
  },
  {
   "cell_type": "markdown",
   "metadata": {},
   "source": [
    "Evaluate the performance of the Single object tracking algorithm."
   ]
  },
  {
   "cell_type": "code",
   "execution_count": null,
   "metadata": {},
   "outputs": [],
   "source": [
    "## put your code here"
   ]
  },
  {
   "cell_type": "markdown",
   "metadata": {},
   "source": [
    "\n",
    "Visualise the results as well. \n"
   ]
  },
  {
   "cell_type": "code",
   "execution_count": null,
   "metadata": {},
   "outputs": [],
   "source": [
    "## put your code here"
   ]
  },
  {
   "cell_type": "markdown",
   "metadata": {},
   "source": [
    "Propose Improvements to the work if possible:"
   ]
  },
  {
   "cell_type": "markdown",
   "metadata": {},
   "source": []
  }
 ],
 "metadata": {
  "kernelspec": {
   "display_name": "python3.9",
   "language": "python",
   "name": "python3"
  },
  "language_info": {
   "codemirror_mode": {
    "name": "ipython",
    "version": 3
   },
   "file_extension": ".py",
   "mimetype": "text/x-python",
   "name": "python",
   "nbconvert_exporter": "python",
   "pygments_lexer": "ipython3",
   "version": "3.10.13"
  }
 },
 "nbformat": 4,
 "nbformat_minor": 2
}
